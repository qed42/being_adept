{
 "cells": [
  {
   "cell_type": "code",
   "execution_count": 6,
   "id": "6ff85414",
   "metadata": {},
   "outputs": [
    {
     "name": "stdout",
     "output_type": "stream",
     "text": [
      "[1744665538.654387, 1743801538.65439, 1745097538.6543908, 1745270338.6543913, 1745788738.6543922, 1746307138.6543927, 1746393538.6543937]\n"
     ]
    }
   ],
   "source": [
    "import time, os\n",
    "\n",
    "# Test files with timestamps (in seconds since epoch)\n",
    "test_files = [\n",
    "    # Files older than 14 days (should be deleted)\n",
    "    time.time() - (20 * 86400),  # 20 days old\n",
    "    time.time() - (30 * 86400),  # 30 days old\n",
    "    time.time() - (15 * 86400),  # 15 days old\n",
    "    \n",
    "    # Files newer than 14 days (should be kept)\n",
    "    time.time() - (13 * 86400),  # 13 days old\n",
    "    time.time() - (7 * 86400),   # 7 days old\n",
    "    time.time() - (1 * 86400),   # 1 day old\n",
    "    time.time()                  # Just created\n",
    "]\n",
    "\n",
    "print(test_files)\n",
    "\n",
    "# Function to create test files with specified timestamps\n",
    "def create_test_files(folder_path):\n",
    "    os.makedirs(folder_path, exist_ok=True)\n",
    "    for time_vars in test_files:\n",
    "        # Generate a unique filename based on the timestamp\n",
    "        filename = f\"{time_vars}.json\"\n",
    "        # Create a dictionary with the filename and its timestamp\n",
    "        filepath = os.path.join(folder_path, filename)\n",
    "        # Create empty JSON file\n",
    "        with open(filepath, 'w') as f:\n",
    "            f.write('{}')\n",
    "\n",
    "\n",
    "# Create test files in the \"db\" folder\n",
    "create_test_files(\"db\")"
   ]
  },
  {
   "cell_type": "code",
   "execution_count": null,
   "id": "b74b5711",
   "metadata": {},
   "outputs": [],
   "source": []
  }
 ],
 "metadata": {
  "kernelspec": {
   "display_name": "marvin",
   "language": "python",
   "name": "python3"
  },
  "language_info": {
   "codemirror_mode": {
    "name": "ipython",
    "version": 3
   },
   "file_extension": ".py",
   "mimetype": "text/x-python",
   "name": "python",
   "nbconvert_exporter": "python",
   "pygments_lexer": "ipython3",
   "version": "3.13.3"
  }
 },
 "nbformat": 4,
 "nbformat_minor": 5
}
